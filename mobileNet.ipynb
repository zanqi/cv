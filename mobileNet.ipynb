{
 "cells": [
  {
   "cell_type": "code",
   "execution_count": 2,
   "metadata": {},
   "outputs": [
    {
     "name": "stdout",
     "output_type": "stream",
     "text": [
      "Predicted class: tabby, tabby cat\n"
     ]
    }
   ],
   "source": [
    "from transformers import AutoImageProcessor, AutoModelForImageClassification\n",
    "from PIL import Image\n",
    "import requests\n",
    "\n",
    "url = \"http://images.cocodataset.org/val2017/000000039769.jpg\"\n",
    "image = Image.open(requests.get(url, stream=True).raw)\n",
    "\n",
    "# initialize processor and model\n",
    "preprocessor = AutoImageProcessor.from_pretrained(\"google/mobilenet_v2_1.0_224\")\n",
    "model = AutoModelForImageClassification.from_pretrained(\"google/mobilenet_v2_1.0_224\")\n",
    "\n",
    "# preprocess the inputs\n",
    "inputs = preprocessor(images=image, return_tensors=\"pt\")\n",
    "\n",
    "# get the output and the class labels\n",
    "outputs = model(**inputs)\n",
    "logits = outputs.logits\n",
    "\n",
    "predicted_class_idx = logits.argmax(-1).item()\n",
    "print(\"Predicted class:\", model.config.id2label[predicted_class_idx])"
   ]
  },
  {
   "cell_type": "code",
   "execution_count": 734,
   "metadata": {},
   "outputs": [
    {
     "name": "stdout",
     "output_type": "stream",
     "text": [
      "C: 0.5882352941176471, Gc: 0.4411764705882353, Bc: 0.3235294117647059, P: 1.0, Ro: 0.12849162011173185\n"
     ]
    },
    {
     "data": {
      "image/jpeg": "[encoded data removed]",
      "image/png": "[encoded data removed]",
      "text/plain": [
       "<PIL.Image.Image image mode=RGB size=80x40>"
      ]
     },
     "execution_count": 734,
     "metadata": {},
     "output_type": "execute_result"
    }
   ],
   "source": [
    "from random import *\n",
    "from PIL import Image\n",
    "import requests\n",
    "\n",
    "r1 = randint(0, 255)\n",
    "g1 = randint(0, 255)\n",
    "b1 = randint(0, 255)\n",
    "r2 = randint(0, 255)\n",
    "g2 = randint(0, 255)\n",
    "b2 = randint(0, 255)\n",
    "p = randint(-7, 7)\n",
    "r = randint(0, 179)\n",
    "ow = 40\n",
    "w = 20\n",
    "\n",
    "img1 = Image.new(\"RGB\", (ow, ow), (r1, g1, b1))\n",
    "img2 = Image.new(\"RGB\", (ow, ow), (r2, g2, b2))\n",
    "nw = 2*ow\n",
    "nh = ow\n",
    "img = Image.new(\"RGB\", (nw, nh))\n",
    "img.paste(img1, (p, 0))\n",
    "img.paste(img2, (ow+p, 0))\n",
    "img = img.rotate(r, resample=Image.Resampling.BICUBIC)\n",
    "# img = img.rotate(r)\n",
    "\n",
    "left = (nw - w)/2\n",
    "top = (nh - w)/2\n",
    "right = (nw + w)/2\n",
    "bottom = (nh + w)/2\n",
    "\n",
    "o = img.crop((left, top, right, bottom))\n",
    "c = (3*r1-3*r2 + 765) / 1530\n",
    "gc = ((g1-r1) - (g2 -r2) + 510) / 1020\n",
    "bc = ((2*b1 - r1 - g1) -(2*b2 - r2 - g2)  + 1020) / 2040\n",
    "P = (p+7)/14\n",
    "Ro = r / 179\n",
    "print(f'C: {c}, Gc: {gc}, Bc: {bc}, P: {P}, Ro: {Ro}')\n",
    "img"
   ]
  },
  {
   "cell_type": "code",
   "execution_count": 575,
   "metadata": {},
   "outputs": [
    {
     "data": {
      "image/jpeg": "[encoded data removed]",
      "image/png": "[encoded data removed]",
      "text/plain": [
       "<PIL.Image.Image image mode=RGB size=80x40>"
      ]
     },
     "execution_count": 575,
     "metadata": {},
     "output_type": "execute_result"
    }
   ],
   "source": [
    "img"
   ]
  },
  {
   "cell_type": "code",
   "execution_count": 569,
   "metadata": {},
   "outputs": [
    {
     "data": {
      "text/html": [
       "<div>\n",
       "<style scoped>\n",
       "    .dataframe tbody tr th:only-of-type {\n",
       "        vertical-align: middle;\n",
       "    }\n",
       "\n",
       "    .dataframe tbody tr th {\n",
       "        vertical-align: top;\n",
       "    }\n",
       "\n",
       "    .dataframe thead th {\n",
       "        text-align: right;\n",
       "    }\n",
       "</style>\n",
       "<table border=\"1\" class=\"dataframe\">\n",
       "  <thead>\n",
       "    <tr style=\"text-align: right;\">\n",
       "      <th></th>\n",
       "      <th>a</th>\n",
       "      <th>b</th>\n",
       "      <th>c</th>\n",
       "      <th>d</th>\n",
       "    </tr>\n",
       "  </thead>\n",
       "  <tbody>\n",
       "    <tr>\n",
       "      <th>0</th>\n",
       "      <td>1</td>\n",
       "      <td>2</td>\n",
       "      <td>3</td>\n",
       "      <td>4</td>\n",
       "    </tr>\n",
       "  </tbody>\n",
       "</table>\n",
       "</div>"
      ],
      "text/plain": [
       "   a  b  c  d\n",
       "0  1  2  3  4"
      ]
     },
     "execution_count": 569,
     "metadata": {},
     "output_type": "execute_result"
    }
   ],
   "source": [
    "import pandas as pd\n",
    "data = [[1, 2, 3, 4]]\n",
    "df = pd.DataFrame(data, columns=['a', 'b', 'c', 'd'])\n",
    "df"
   ]
  }
 ],
 "metadata": {
  "kernelspec": {
   "display_name": "Python 3",
   "language": "python",
   "name": "python3"
  },
  "language_info": {
   "codemirror_mode": {
    "name": "ipython",
    "version": 3
   },
   "file_extension": ".py",
   "mimetype": "text/x-python",
   "name": "python",
   "nbconvert_exporter": "python",
   "pygments_lexer": "ipython3",
   "version": "3.11.5"
  }
 },
 "nbformat": 4,
 "nbformat_minor": 2
}
