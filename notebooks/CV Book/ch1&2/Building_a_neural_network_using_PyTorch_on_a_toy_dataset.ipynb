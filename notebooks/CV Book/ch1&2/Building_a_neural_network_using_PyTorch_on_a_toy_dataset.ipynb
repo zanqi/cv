{
  "cells": [
    {
      "cell_type": "markdown",
      "metadata": {
        "colab_type": "text",
        "id": "view-in-github"
      },
      "source": [
        "<a href=\"https://colab.research.google.com/github/PacktPublishing/Modern-Computer-Vision-with-PyTorch-2E/blob/main/Chapter02/Building_a_neural_network_using_PyTorch_on_a_toy_dataset.ipynb\" target=\"_parent\"><img src=\"https://colab.research.google.com/assets/colab-badge.svg\" alt=\"Open In Colab\"/></a>"
      ]
    },
    {
      "cell_type": "code",
      "execution_count": 2,
      "metadata": {
        "ExecuteTime": {
          "end_time": "2020-09-25T19:37:27.437450Z",
          "start_time": "2020-09-25T19:37:27.143217Z"
        },
        "id": "e1gtGb85daHv"
      },
      "outputs": [],
      "source": [
        "import torch\n",
        "x = [[1,2],[3,4],[5,6],[7,8]]\n",
        "y = [[3],[7],[11],[15]]"
      ]
    },
    {
      "cell_type": "code",
      "execution_count": 3,
      "metadata": {
        "ExecuteTime": {
          "end_time": "2020-09-25T19:37:27.440914Z",
          "start_time": "2020-09-25T19:37:27.438557Z"
        },
        "id": "ZaYGlxtQdbd1"
      },
      "outputs": [],
      "source": [
        "X = torch.tensor(x).float()\n",
        "Y = torch.tensor(y).float()"
      ]
    },
    {
      "cell_type": "code",
      "execution_count": 4,
      "metadata": {
        "ExecuteTime": {
          "end_time": "2020-09-25T19:37:29.527549Z",
          "start_time": "2020-09-25T19:37:27.442428Z"
        },
        "id": "q5DT95H_dcwi"
      },
      "outputs": [],
      "source": [
        "# device = 'cuda' if torch.cuda.is_available() else 'cpu'\n",
        "device = 'cuda' if torch.cuda.is_available() else 'mps'\n",
        "X = X.to(device)\n",
        "Y = Y.to(device)"
      ]
    },
    {
      "cell_type": "code",
      "execution_count": 5,
      "metadata": {
        "ExecuteTime": {
          "end_time": "2020-09-25T19:37:29.530750Z",
          "start_time": "2020-09-25T19:37:29.528696Z"
        },
        "id": "rHq7VwgDdeJ-"
      },
      "outputs": [],
      "source": [
        "import torch.nn as nn"
      ]
    },
    {
      "cell_type": "code",
      "execution_count": 6,
      "metadata": {
        "ExecuteTime": {
          "end_time": "2020-09-25T19:37:29.535567Z",
          "start_time": "2020-09-25T19:37:29.531890Z"
        },
        "id": "clpig_05dfYK"
      },
      "outputs": [],
      "source": [
        "class MyNeuralNet(nn.Module):\n",
        "    def __init__(self):\n",
        "        super().__init__()\n",
        "        self.input_to_hidden_layer = nn.Linear(2,8)\n",
        "        self.hidden_layer_activation = nn.ReLU()\n",
        "        self.hidden_to_output_layer = nn.Linear(8,1)\n",
        "    def forward(self, x):\n",
        "        x = self.input_to_hidden_layer(x)\n",
        "        x = self.hidden_layer_activation(x)\n",
        "        x = self.hidden_to_output_layer(x)\n",
        "        return x"
      ]
    },
    {
      "cell_type": "code",
      "execution_count": 7,
      "metadata": {
        "ExecuteTime": {
          "end_time": "2020-09-25T19:37:29.540168Z",
          "start_time": "2020-09-25T19:37:29.536723Z"
        },
        "id": "McmLsQstdnxr"
      },
      "outputs": [],
      "source": [
        "mynet = MyNeuralNet().to(device)"
      ]
    },
    {
      "cell_type": "code",
      "execution_count": 8,
      "metadata": {
        "ExecuteTime": {
          "end_time": "2020-09-25T19:37:29.544857Z",
          "start_time": "2020-09-25T19:37:29.541272Z"
        },
        "id": "8cyG-B-AdoBB"
      },
      "outputs": [],
      "source": [
        "loss_func = nn.MSELoss()"
      ]
    },
    {
      "cell_type": "code",
      "execution_count": 9,
      "metadata": {
        "ExecuteTime": {
          "end_time": "2020-09-25T19:37:29.554504Z",
          "start_time": "2020-09-25T19:37:29.546221Z"
        },
        "colab": {
          "base_uri": "https://localhost:8080/",
          "height": 34
        },
        "id": "QRTf8vdKdqmP",
        "outputId": "202d1e33-b0c3-4dcc-a760-c96bb5e94ea2"
      },
      "outputs": [
        {
          "name": "stdout",
          "output_type": "stream",
          "text": [
            "tensor(93.8611, device='mps:0', grad_fn=<MseLossBackward0>)\n"
          ]
        }
      ],
      "source": [
        "_Y = mynet(X)\n",
        "loss_value = loss_func(_Y,Y)\n",
        "print(loss_value)"
      ]
    },
    {
      "cell_type": "code",
      "execution_count": 10,
      "metadata": {
        "ExecuteTime": {
          "end_time": "2020-09-25T19:37:29.558932Z",
          "start_time": "2020-09-25T19:37:29.555392Z"
        },
        "id": "dTOdsvFydsQK"
      },
      "outputs": [],
      "source": [
        "from torch.optim import SGD\n",
        "opt = SGD(mynet.parameters(), lr = 0.001)"
      ]
    },
    {
      "cell_type": "code",
      "execution_count": 11,
      "metadata": {
        "ExecuteTime": {
          "end_time": "2020-09-25T19:37:29.588488Z",
          "start_time": "2020-09-25T19:37:29.560089Z"
        },
        "id": "xyHCZwfYduGO"
      },
      "outputs": [],
      "source": [
        "# %%timeit\n",
        "\n",
        "loss_history = []\n",
        "for _ in range(50):\n",
        "    opt.zero_grad()\n",
        "    loss_value = loss_func(mynet(X),Y)\n",
        "    loss_value.backward()\n",
        "    opt.step()\n",
        "    loss_history.append(loss_value.item())"
      ]
    },
    {
      "cell_type": "code",
      "execution_count": 12,
      "metadata": {
        "ExecuteTime": {
          "end_time": "2020-09-25T19:37:29.838987Z",
          "start_time": "2020-09-25T19:37:29.589467Z"
        },
        "colab": {
          "base_uri": "https://localhost:8080/",
          "height": 312
        },
        "id": "DiO6I53udwvY",
        "outputId": "5dd07791-cb79-4f27-d5c4-2c6b17e9f614"
      },
      "outputs": [
        {
          "data": {
            "text/plain": [
              "Text(0, 0.5, 'loss value')"
            ]
          },
          "execution_count": 12,
          "metadata": {},
          "output_type": "execute_result"
        },
        {
          "data": {
            "image/png": "[encoded data removed]",
            "text/plain": [
              "<Figure size 640x480 with 1 Axes>"
            ]
          },
          "metadata": {},
          "output_type": "display_data"
        }
      ],
      "source": [
        "import matplotlib.pyplot as plt\n",
        "%matplotlib inline\n",
        "plt.plot(loss_history)\n",
        "plt.title('Loss variation over increasing epochs')\n",
        "plt.xlabel('epochs')\n",
        "plt.ylabel('loss value')"
      ]
    },
    {
      "cell_type": "code",
      "execution_count": 13,
      "metadata": {
        "id": "jmfHZmKXdyND"
      },
      "outputs": [
        {
          "data": {
            "text/plain": [
              "MyNeuralNet(\n",
              "  (input_to_hidden_layer): Linear(in_features=2, out_features=8, bias=True)\n",
              "  (hidden_layer_activation): ReLU()\n",
              "  (hidden_to_output_layer): Linear(in_features=8, out_features=1, bias=True)\n",
              ")"
            ]
          },
          "execution_count": 13,
          "metadata": {},
          "output_type": "execute_result"
        }
      ],
      "source": [
        "mynet"
      ]
    },
    {
      "cell_type": "code",
      "execution_count": 14,
      "metadata": {},
      "outputs": [
        {
          "name": "stdout",
          "output_type": "stream",
          "text": [
            "30.9 μs ± 907 ns per loop (mean ± std. dev. of 7 runs, 10,000 loops each)\n"
          ]
        }
      ],
      "source": [
        "%%timeit\n",
        "import random\n",
        "\n",
        "\n",
        "x = torch.ones(5000, device='mps')\n",
        "x * random.randint(0, 100)"
      ]
    },
    {
      "cell_type": "code",
      "execution_count": 15,
      "metadata": {},
      "outputs": [
        {
          "name": "stdout",
          "output_type": "stream",
          "text": [
            "3.58 μs ± 252 ns per loop (mean ± std. dev. of 7 runs, 100,000 loops each)\n"
          ]
        }
      ],
      "source": [
        "%%timeit\n",
        "import random\n",
        "\n",
        "\n",
        "x = torch.ones(5000, device='cpu')\n",
        "x * random.randint(0, 100)"
      ]
    },
    {
      "cell_type": "markdown",
      "metadata": {},
      "source": [
        "MPS is only faster for large matrix calculations. Better profile a few backprop to decide on which device to use."
      ]
    },
    {
      "cell_type": "code",
      "execution_count": 22,
      "metadata": {},
      "outputs": [
        {
          "name": "stdout",
          "output_type": "stream",
          "text": [
            "==========================================================================================\n",
            "Layer (type:depth-idx)                   Output Shape              Param #\n",
            "==========================================================================================\n",
            "├─Linear: 1-1                            [-1, 8]                   24\n",
            "├─ReLU: 1-2                              [-1, 8]                   --\n",
            "├─Linear: 1-3                            [-1, 1]                   9\n",
            "==========================================================================================\n",
            "Total params: 33\n",
            "Trainable params: 33\n",
            "Non-trainable params: 0\n",
            "Total mult-adds (M): 0.00\n",
            "==========================================================================================\n",
            "Input size (MB): 0.00\n",
            "Forward/backward pass size (MB): 0.00\n",
            "Params size (MB): 0.00\n",
            "Estimated Total Size (MB): 0.00\n",
            "==========================================================================================\n"
          ]
        },
        {
          "data": {
            "text/plain": [
              "==========================================================================================\n",
              "Layer (type:depth-idx)                   Output Shape              Param #\n",
              "==========================================================================================\n",
              "├─Linear: 1-1                            [-1, 8]                   24\n",
              "├─ReLU: 1-2                              [-1, 8]                   --\n",
              "├─Linear: 1-3                            [-1, 1]                   9\n",
              "==========================================================================================\n",
              "Total params: 33\n",
              "Trainable params: 33\n",
              "Non-trainable params: 0\n",
              "Total mult-adds (M): 0.00\n",
              "==========================================================================================\n",
              "Input size (MB): 0.00\n",
              "Forward/backward pass size (MB): 0.00\n",
              "Params size (MB): 0.00\n",
              "Estimated Total Size (MB): 0.00\n",
              "=========================================================================================="
            ]
          },
          "execution_count": 22,
          "metadata": {},
          "output_type": "execute_result"
        }
      ],
      "source": [
        "from torchsummary import summary\n",
        "\n",
        "summary(mynet, torch.zeros(1, 2))\n"
      ]
    }
  ],
  "metadata": {
    "colab": {
      "include_colab_link": true,
      "name": "Building_a_neural_network_using_PyTorch_on_a_toy_dataset.ipynb",
      "provenance": []
    },
    "kernelspec": {
      "display_name": "Python 3",
      "language": "python",
      "name": "python3"
    },
    "language_info": {
      "codemirror_mode": {
        "name": "ipython",
        "version": 3
      },
      "file_extension": ".py",
      "mimetype": "text/x-python",
      "name": "python",
      "nbconvert_exporter": "python",
      "pygments_lexer": "ipython3",
      "version": "3.11.5"
    }
  },
  "nbformat": 4,
  "nbformat_minor": 0
}
