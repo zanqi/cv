{
  "cells": [
    {
      "cell_type": "markdown",
      "metadata": {
        "id": "Uk4Fezbb9SZc"
      },
      "source": [
        "### Forward Propagation"
      ]
    },
    {
      "cell_type": "code",
      "execution_count": 14,
      "metadata": {
        "ExecuteTime": {
          "end_time": "2020-09-24T12:46:03.594770Z",
          "start_time": "2020-09-24T12:46:03.589643Z"
        },
        "id": "VytiqjTQgwf4"
      },
      "outputs": [],
      "source": [
        "import numpy as np\n",
        "\n",
        "\n",
        "def feed_forward(inputs, outputs, weights):\n",
        "    pre_hidden = np.dot(inputs, weights[0]) + weights[1]\n",
        "    # print(pre_hidden)\n",
        "    hidden = 1 / (1 + np.exp(-pre_hidden))\n",
        "    # print(hidden)\n",
        "    pred_out = np.dot(hidden, weights[2]) + weights[3]\n",
        "    # print(pred_out)\n",
        "    mean_squared_error = np.mean(np.square(pred_out - outputs))\n",
        "    return mean_squared_error"
      ]
    },
    {
      "cell_type": "code",
      "execution_count": 21,
      "metadata": {},
      "outputs": [
        {
          "data": {
            "text/plain": [
              "1.5208120789621902"
            ]
          },
          "execution_count": 21,
          "metadata": {},
          "output_type": "execute_result"
        }
      ],
      "source": [
        "x = np.array([[1, 1]])\n",
        "y = np.array([[0]])\n",
        "w = [np.array([[.8, .4, .3], [.2, .9, .5]]), np.array([0, 0, 0]),\n",
        "     np.array([[.3], [.5], [.9]]), np.array([0])]\n",
        "\n",
        "feed_forward(x, y, w)"
      ]
    },
    {
      "cell_type": "code",
      "execution_count": 22,
      "metadata": {},
      "outputs": [],
      "source": [
        "from copy import deepcopy\n",
        "\n",
        "\n",
        "def update_weights(inputs, outputs, weights, lr):\n",
        "    original_weights = deepcopy(weights)\n",
        "    temp_weights = deepcopy(weights)\n",
        "    updated_weights = deepcopy(weights)\n",
        "    original_loss = feed_forward(inputs, outputs, original_weights)\n",
        "    for i, layer in enumerate(original_weights):\n",
        "        for index, weight in np.ndenumerate(layer):\n",
        "            temp_weights = deepcopy(weights)\n",
        "            temp_weights[i][index] += 0.0001\n",
        "            _loss_plus = feed_forward(inputs, outputs, temp_weights)\n",
        "            grad = (_loss_plus - original_loss) / (0.0001)\n",
        "            updated_weights[i][index] -= grad * lr\n",
        "    return updated_weights, original_loss"
      ]
    },
    {
      "cell_type": "code",
      "execution_count": 32,
      "metadata": {},
      "outputs": [
        {
          "data": {
            "text/plain": [
              "([array([[0.78773887, 0.36619277, 0.1859992 ],\n",
              "         [0.18773887, 0.86619277, 0.3859992 ]]),\n",
              "  array([0, 0, 0]),\n",
              "  array([[-0.23800185],\n",
              "         [-0.07693925],\n",
              "         [ 0.40589043]]),\n",
              "  array([0])],\n",
              " 0.0015449286983357591)"
            ]
          },
          "execution_count": 32,
          "metadata": {},
          "output_type": "execute_result"
        }
      ],
      "source": [
        "w, loss = update_weights(x, y, w, .1)\n",
        "w, loss"
      ]
    }
  ],
  "metadata": {
    "colab": {
      "name": "Feed_forward_propagation.ipynb",
      "provenance": []
    },
    "kernelspec": {
      "display_name": "Python 3",
      "language": "python",
      "name": "python3"
    },
    "language_info": {
      "codemirror_mode": {
        "name": "ipython",
        "version": 3
      },
      "file_extension": ".py",
      "mimetype": "text/x-python",
      "name": "python",
      "nbconvert_exporter": "python",
      "pygments_lexer": "ipython3",
      "version": "3.11.5"
    }
  },
  "nbformat": 4,
  "nbformat_minor": 0
}
