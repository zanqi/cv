{
 "cells": [
  {
   "cell_type": "code",
   "execution_count": null,
   "metadata": {},
   "outputs": [],
   "source": [
    "def same(t1, t2):\n",
    "    if t1 is None and t2 is None:\n",
    "        return True\n",
    "    if t1 is None or t2 is None:\n",
    "        return False\n",
    "    return t1.val == t2.val and same(t1.left, t2.left) and same(t1.right, t2.right)"
   ]
  },
  {
   "cell_type": "code",
   "execution_count": 6,
   "metadata": {},
   "outputs": [
    {
     "data": {
      "text/plain": [
       "2"
      ]
     },
     "execution_count": 6,
     "metadata": {},
     "output_type": "execute_result"
    }
   ],
   "source": [
    "def sqrt(n, a, b):\n",
    "    m = (a+b)//2\n",
    "    if m**2 == n or a == b:\n",
    "        return m\n",
    "    elif m**2 > n:\n",
    "        return sqrt(n, a, m-1)\n",
    "    else:\n",
    "        return sqrt(n, m, b)\n",
    "\n",
    "def sqrt2(n):\n",
    "    a = 0\n",
    "    b = n\n",
    "\n",
    "    while a != b:\n",
    "        m = (a+b)//2\n",
    "        if m**2 == n:\n",
    "            res = m\n",
    "            break\n",
    "        elif m**2 > n:\n",
    "            b = m-1\n",
    "        else:\n",
    "            res = m\n",
    "            a = m+1\n",
    "    \n",
    "    return res\n",
    "\n",
    "sqrt(5, 0, 5)\n",
    "sqrt(4, 0, 4)\n",
    "sqrt2(5)\n",
    "sqrt2(4)"
   ]
  },
  {
   "cell_type": "code",
   "execution_count": 9,
   "metadata": {},
   "outputs": [
    {
     "data": {
      "text/plain": [
       "-1"
      ]
     },
     "execution_count": 9,
     "metadata": {},
     "output_type": "execute_result"
    }
   ],
   "source": [
    "def max_sum(arr):\n",
    "    res = -1000\n",
    "    m = -1000\n",
    "    for i, v in enumerate(arr):\n",
    "        m = max(m+v, v)\n",
    "        res = max(m, res)\n",
    "\n",
    "    return res\n",
    "\n",
    "max_sum([1, 2, 3, -2, 5])\n",
    "max_sum([-1, -2, -3, -4])"
   ]
  },
  {
   "cell_type": "code",
   "execution_count": 12,
   "metadata": {},
   "outputs": [
    {
     "data": {
      "text/plain": [
       "-1"
      ]
     },
     "execution_count": 12,
     "metadata": {},
     "output_type": "execute_result"
    }
   ],
   "source": [
    "from collections import deque\n",
    "\n",
    "def find_val(arr, v):\n",
    "    for i in range(len(arr)):\n",
    "        for j in range(len(arr[i])):\n",
    "            if arr[i][j] == v:\n",
    "                return i, j\n",
    "    \n",
    "    return None\n",
    "\n",
    "\n",
    "def rat(arr):\n",
    "    i, j = find_val(arr, 2)\n",
    "    q = deque([(i, j, 0)])\n",
    "\n",
    "    d = 0\n",
    "    while q:\n",
    "        i, j, d = q.popleft()\n",
    "        arr[i][j] = 0\n",
    "        for di, dj in [(-1, 0), (1, 0), (0, -1), (0, 1)]:\n",
    "            di = i+di\n",
    "            dj = j+dj\n",
    "            if di >= 0 and dj >= 0 and di < len(arr) and dj < len(arr[i]) and arr[di][dj] == 1:\n",
    "                q.append((di, dj, d+1))\n",
    "    if find_val(arr, 1):\n",
    "        return -1\n",
    "    return d\n",
    "\n",
    "rat([[2, 1, 1], [1, 1, 0], [0, 1, 1]])\n",
    "rat([[2, 1, 1], [0, 1, 1], [1, 0, 1]])"
   ]
  },
  {
   "cell_type": "code",
   "execution_count": 16,
   "metadata": {},
   "outputs": [
    {
     "data": {
      "text/plain": [
       "6"
      ]
     },
     "execution_count": 16,
     "metadata": {},
     "output_type": "execute_result"
    }
   ],
   "source": [
    "import math\n",
    "\n",
    "\n",
    "def toys(k, s):\n",
    "    res = 0\n",
    "    if s % 3 and s//3 <= k:\n",
    "        res += 1\n",
    "    b = min(k, s//2)\n",
    "    a = max(math.ceil((s-k) / 2), 0)\n",
    "    res += max((b-a)*3, 0)\n",
    "\n",
    "    a = min(k, s-1) + 1\n",
    "    b = min(k, s-a)\n",
    "    \n",
    "    return res\n",
    "\n",
    "def toys2(k, s, n=3):\n",
    "    if s == 0:\n",
    "        return 1\n",
    "    if n == 0 and s != 0:\n",
    "        return 0\n",
    "    \n",
    "    res = 0\n",
    "    for a in range(min(k, s)+1):\n",
    "        res += toys2(k, s-a, n-1)\n",
    "\n",
    "    return res\n",
    "\n",
    "toys2(5, 15)\n",
    "toys2(2, 2)"
   ]
  },
  {
   "cell_type": "code",
   "execution_count": 17,
   "metadata": {},
   "outputs": [
    {
     "data": {
      "text/plain": [
       "3"
      ]
     },
     "execution_count": 17,
     "metadata": {},
     "output_type": "execute_result"
    }
   ],
   "source": [
    "def countServed(buildingPpl, loc, dist):\n",
    "    diff = [0] * (len(buildingPpl) + 1)\n",
    "    for i in range(len(loc)):\n",
    "        c = loc[i]\n",
    "        a = max(c-dist[i], 0)\n",
    "        b = min(c+dist[i]+1, len(buildingPpl))\n",
    "        diff[a] += 1\n",
    "        diff[b] -= 1\n",
    "    res = 0\n",
    "    cov = 0\n",
    "    for i in range(len(buildingPpl)):\n",
    "        cov += diff[i]\n",
    "        if buildingPpl[i] <= cov:\n",
    "            res+=1\n",
    "    return res\n",
    "\n",
    "countServed([1, 2, 1, 2, 2], [3, 1], [1, 2])"
   ]
  },
  {
   "cell_type": "code",
   "execution_count": 25,
   "metadata": {},
   "outputs": [
    {
     "data": {
      "text/plain": [
       "False"
      ]
     },
     "execution_count": 25,
     "metadata": {},
     "output_type": "execute_result"
    }
   ],
   "source": [
    "import functools\n",
    "\n",
    "\n",
    "@functools.cache\n",
    "def isValid(c, a, b):\n",
    "    if a >= b:\n",
    "        return True\n",
    "    if b-a == 1:\n",
    "        return False\n",
    "    if c[a] == c[b-1] and isValid(c, a+1, b-1):\n",
    "        return True\n",
    "    for i in range(a+1, b):\n",
    "        if isValid(c, a, i) and isValid(c, i, b):\n",
    "            return True\n",
    "    \n",
    "    return False\n",
    "\n",
    "isValid('abba', 0, 4)\n",
    "isValid('abca', 0, 4)"
   ]
  },
  {
   "cell_type": "code",
   "execution_count": 69,
   "metadata": {},
   "outputs": [
    {
     "name": "stdout",
     "output_type": "stream",
     "text": [
      "0\n",
      "-1.0 1.0\n"
     ]
    },
    {
     "data": {
      "text/plain": [
       "3.0"
      ]
     },
     "execution_count": 69,
     "metadata": {},
     "output_type": "execute_result"
    }
   ],
   "source": [
    "\n",
    "from bisect import bisect_left, bisect_right\n",
    "\n",
    "\n",
    "def numWarehouse(centers, d):\n",
    "    d = d/2\n",
    "    centers.sort()\n",
    "    dist = [0]*len(centers)\n",
    "    for i in range(1, len(centers)):\n",
    "        if centers[i] == centers[i-1]:\n",
    "            dist[i] = dist[i-1]\n",
    "        else:\n",
    "            dist[i] = dist[i-1] + i * (centers[i] - centers[i-1])\n",
    "\n",
    "    dist2 = [0]*len(centers)\n",
    "    for i in range(len(centers)-2, -1, -1):\n",
    "        if centers[i] == centers[i+1]:\n",
    "            dist2[i] = dist2[i+1]\n",
    "        else:\n",
    "            dist2[i] = dist2[i+1] + (len(centers) - i-1) * (centers[i+1] - centers[i])\n",
    "        dist[i] += dist2[i]\n",
    "    \n",
    "    def ok(x):\n",
    "        if x <= centers[0]:\n",
    "            return dist[0] + len(centers) * (dist[0] - x) < d\n",
    "        le = bisect_right(centers, x)\n",
    "        i = le -1\n",
    "        if x == centers[i]:\n",
    "            return dist[i] <= d\n",
    "        else:\n",
    "            return dist[i] + le * (x - centers[i]) - (len(centers) - le) * (x-centers[i]) <=d\n",
    "\n",
    "    firstok = None\n",
    "    for i in range(len(centers)):\n",
    "        if ok(centers[i]):\n",
    "            firstok = centers[i]\n",
    "            break\n",
    "    if firstok is None:\n",
    "        return 0\n",
    "\n",
    "    a = -10e9\n",
    "    b = firstok\n",
    "    print(firstok)\n",
    "    while a < b:\n",
    "        mid = (a+b) // 2\n",
    "        if ok(mid):\n",
    "            b = mid\n",
    "        else:\n",
    "            a = mid +1\n",
    "    i = a\n",
    "\n",
    "    a = firstok\n",
    "    b = 10e9\n",
    "    j = 0\n",
    "    while a != b:\n",
    "        mid = (a+b) // 2\n",
    "        if ok(mid):\n",
    "            a = mid + 1\n",
    "            j = mid\n",
    "        else:\n",
    "            b = mid - 1\n",
    "        # print(a, b, mid)\n",
    "    print(i, j)\n",
    "    \n",
    "    return j-i+1\n",
    "\n",
    "numWarehouse([-2, 1, 0], 8)"
   ]
  }
 ],
 "metadata": {
  "kernelspec": {
   "display_name": ".env",
   "language": "python",
   "name": "python3"
  },
  "language_info": {
   "codemirror_mode": {
    "name": "ipython",
    "version": 3
   },
   "file_extension": ".py",
   "mimetype": "text/x-python",
   "name": "python",
   "nbconvert_exporter": "python",
   "pygments_lexer": "ipython3",
   "version": "3.11.5"
  }
 },
 "nbformat": 4,
 "nbformat_minor": 2
}
